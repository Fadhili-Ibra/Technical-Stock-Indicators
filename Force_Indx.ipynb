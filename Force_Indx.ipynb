{
 "cells": [
  {
   "cell_type": "code",
   "execution_count": 1,
   "metadata": {},
   "outputs": [],
   "source": [
    "# Load the necessary packages and modules\n",
    "import pandas as pd\n",
    "import yfinance as yf\n",
    "import matplotlib.pyplot as plt"
   ]
  },
  {
   "cell_type": "code",
   "execution_count": 2,
   "metadata": {},
   "outputs": [],
   "source": [
    "# Returns the Force Index \n",
    "def ForceIndex(data, ndays): \n",
    "    FI = pd.Series(data['Close'].diff(ndays) * data['Volume'], name = 'ForceIndex') \n",
    "    data = data.join(FI) \n",
    "    return data"
   ]
  },
  {
   "cell_type": "code",
   "execution_count": 5,
   "metadata": {},
   "outputs": [
    {
     "name": "stderr",
     "output_type": "stream",
     "text": [
      "[*********************100%%**********************]  1 of 1 completed\n"
     ]
    },
    {
     "data": {
      "text/html": [
       "<div>\n",
       "<style scoped>\n",
       "    .dataframe tbody tr th:only-of-type {\n",
       "        vertical-align: middle;\n",
       "    }\n",
       "\n",
       "    .dataframe tbody tr th {\n",
       "        vertical-align: top;\n",
       "    }\n",
       "\n",
       "    .dataframe thead th {\n",
       "        text-align: right;\n",
       "    }\n",
       "</style>\n",
       "<table border=\"1\" class=\"dataframe\">\n",
       "  <thead>\n",
       "    <tr style=\"text-align: right;\">\n",
       "      <th></th>\n",
       "      <th>count</th>\n",
       "      <th>mean</th>\n",
       "      <th>std</th>\n",
       "      <th>min</th>\n",
       "      <th>25%</th>\n",
       "      <th>50%</th>\n",
       "      <th>75%</th>\n",
       "      <th>max</th>\n",
       "    </tr>\n",
       "  </thead>\n",
       "  <tbody>\n",
       "    <tr>\n",
       "      <th>Open</th>\n",
       "      <td>1138.0</td>\n",
       "      <td>1.459945e+02</td>\n",
       "      <td>3.499094e+01</td>\n",
       "      <td>5.702000e+01</td>\n",
       "      <td>1.266550e+02</td>\n",
       "      <td>1.489250e+02</td>\n",
       "      <td>1.725925e+02</td>\n",
       "      <td>2.313900e+02</td>\n",
       "    </tr>\n",
       "    <tr>\n",
       "      <th>High</th>\n",
       "      <td>1138.0</td>\n",
       "      <td>1.476558e+02</td>\n",
       "      <td>3.513293e+01</td>\n",
       "      <td>5.712500e+01</td>\n",
       "      <td>1.279225e+02</td>\n",
       "      <td>1.503850e+02</td>\n",
       "      <td>1.741300e+02</td>\n",
       "      <td>2.330800e+02</td>\n",
       "    </tr>\n",
       "    <tr>\n",
       "      <th>Low</th>\n",
       "      <td>1138.0</td>\n",
       "      <td>1.444607e+02</td>\n",
       "      <td>3.486484e+01</td>\n",
       "      <td>5.315250e+01</td>\n",
       "      <td>1.250869e+02</td>\n",
       "      <td>1.474950e+02</td>\n",
       "      <td>1.710250e+02</td>\n",
       "      <td>2.292500e+02</td>\n",
       "    </tr>\n",
       "    <tr>\n",
       "      <th>Close</th>\n",
       "      <td>1138.0</td>\n",
       "      <td>1.461293e+02</td>\n",
       "      <td>3.501053e+01</td>\n",
       "      <td>5.609250e+01</td>\n",
       "      <td>1.262925e+02</td>\n",
       "      <td>1.490650e+02</td>\n",
       "      <td>1.729675e+02</td>\n",
       "      <td>2.329800e+02</td>\n",
       "    </tr>\n",
       "    <tr>\n",
       "      <th>Adj Close</th>\n",
       "      <td>1138.0</td>\n",
       "      <td>1.445282e+02</td>\n",
       "      <td>3.548117e+01</td>\n",
       "      <td>5.463290e+01</td>\n",
       "      <td>1.240908e+02</td>\n",
       "      <td>1.471816e+02</td>\n",
       "      <td>1.718984e+02</td>\n",
       "      <td>2.329800e+02</td>\n",
       "    </tr>\n",
       "    <tr>\n",
       "      <th>Volume</th>\n",
       "      <td>1138.0</td>\n",
       "      <td>9.497735e+07</td>\n",
       "      <td>5.326999e+07</td>\n",
       "      <td>2.404830e+07</td>\n",
       "      <td>6.011425e+07</td>\n",
       "      <td>8.038435e+07</td>\n",
       "      <td>1.119275e+08</td>\n",
       "      <td>4.265100e+08</td>\n",
       "    </tr>\n",
       "  </tbody>\n",
       "</table>\n",
       "</div>"
      ],
      "text/plain": [
       "            count          mean           std           min           25%  \\\n",
       "Open       1138.0  1.459945e+02  3.499094e+01  5.702000e+01  1.266550e+02   \n",
       "High       1138.0  1.476558e+02  3.513293e+01  5.712500e+01  1.279225e+02   \n",
       "Low        1138.0  1.444607e+02  3.486484e+01  5.315250e+01  1.250869e+02   \n",
       "Close      1138.0  1.461293e+02  3.501053e+01  5.609250e+01  1.262925e+02   \n",
       "Adj Close  1138.0  1.445282e+02  3.548117e+01  5.463290e+01  1.240908e+02   \n",
       "Volume     1138.0  9.497735e+07  5.326999e+07  2.404830e+07  6.011425e+07   \n",
       "\n",
       "                    50%           75%           max  \n",
       "Open       1.489250e+02  1.725925e+02  2.313900e+02  \n",
       "High       1.503850e+02  1.741300e+02  2.330800e+02  \n",
       "Low        1.474950e+02  1.710250e+02  2.292500e+02  \n",
       "Close      1.490650e+02  1.729675e+02  2.329800e+02  \n",
       "Adj Close  1.471816e+02  1.718984e+02  2.329800e+02  \n",
       "Volume     8.038435e+07  1.119275e+08  4.265100e+08  "
      ]
     },
     "execution_count": 5,
     "metadata": {},
     "output_type": "execute_result"
    }
   ],
   "source": [
    "# Retrieve the Apple Inc. data from Yahoo finance\n",
    "data = yf.download(\"AAPL\", start=\"2020-01-01\", end=\"2024-12-31\") \n",
    "data.describe().T"
   ]
  },
  {
   "cell_type": "code",
   "execution_count": 6,
   "metadata": {},
   "outputs": [
    {
     "data": {
      "text/plain": [
       "Date\n",
       "2020-01-02             NaN\n",
       "2020-01-03   -1.068161e+08\n",
       "2020-01-06    7.014427e+07\n",
       "2020-01-07   -3.837665e+07\n",
       "2020-01-08    1.584946e+08\n",
       "                  ...     \n",
       "2024-07-05    2.893750e+08\n",
       "2024-07-08    8.744778e+07\n",
       "2024-07-09    4.134474e+07\n",
       "2024-07-10    2.692993e+08\n",
       "2024-07-11   -3.490357e+08\n",
       "Name: ForceIndex, Length: 1138, dtype: float64"
      ]
     },
     "execution_count": 6,
     "metadata": {},
     "output_type": "execute_result"
    }
   ],
   "source": [
    "# Compute the Force Index for AAPL\n",
    "n = 1\n",
    "AAPL_ForceIndex = ForceIndex(data,n)\n",
    "AAPL_ForceIndex['ForceIndex']"
   ]
  }
 ],
 "metadata": {
  "kernelspec": {
   "display_name": "Python 3",
   "language": "python",
   "name": "python3"
  },
  "language_info": {
   "codemirror_mode": {
    "name": "ipython",
    "version": 3
   },
   "file_extension": ".py",
   "mimetype": "text/x-python",
   "name": "python",
   "nbconvert_exporter": "python",
   "pygments_lexer": "ipython3",
   "version": "3.11.0"
  }
 },
 "nbformat": 4,
 "nbformat_minor": 2
}
